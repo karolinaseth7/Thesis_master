{
 "cells": [
  {
   "cell_type": "code",
   "execution_count": null,
   "id": "39c03902",
   "metadata": {},
   "outputs": [],
   "source": [
    "from bs4 import BeautifulSoup\n",
    "import requests\n",
    "from datetime import datetime\n",
    "\n",
    "date_str = \"2025-09-27\"\n",
    "url = f\"http://rmcab.ambientebogota.gov.co/Report/HourlyReports?id=1&UserDateString={date_str}\"\n",
    "\n",
    "r = requests.get(url)\n",
    "soup = BeautifulSoup(r.text, \"lxml\")\n",
    "\n",
    "titles = [h2.get_text(strip=True) for h2 in soup.find_all(\"h2\")]\n",
    "tables = soup.find_all(\"table\")\n",
    "\n",
    "print(f\"🧾 Fecha: {date_str}\")\n",
    "print(f\"Se encontraron {len(tables)} tablas y {len(titles)} títulos.\\n\")\n",
    "\n",
    "for i, (title, table) in enumerate(zip(titles, tables)):\n",
    "    print(f\"Estación {i+1}: {title}\")\n",
    "    print(table.text[:300])  # Muestra los primeros 300 caracteres del contenido\n",
    "    print(\"=\"*80)\n"
   ]
  },
  {
   "cell_type": "code",
   "execution_count": null,
   "id": "d13d53e5",
   "metadata": {},
   "outputs": [],
   "source": [
    "\n",
    "#no funciona\n",
    "\n",
    "Cumplimiento del programa de auditorías internas o externas al SAGRILAFT, PTEE y PPDP (%) = \n",
    "VAR ActividadesProgramadas =\n",
    "    CALCULATE(\n",
    "        SUM('vista-mando-completa'[data.valor]),\n",
    "        'vista-mando-completa'[data.variable_nombre] = \"Actividades programadas\"\n",
    "    )\n",
    "VAR ActividadesEjecutadas =\n",
    "    CALCULATE(\n",
    "        SUM('vista-mando-completa'[data.valor]),\n",
    "        'vista-mando-completa'[data.variable_nombre] = \"Actividades ejecutadas\"\n",
    "    )\n",
    "RETURN\n",
    "DIVIDE(ActividadesProgramadas, ActividadesEjecutadas, 0)*100\n"
   ]
  },
  {
   "cell_type": "code",
   "execution_count": null,
   "id": "90580dd3",
   "metadata": {},
   "outputs": [],
   "source": [
    "#Funciona\n",
    "Tasa de conversión de Engagement (%) = \n",
    "VAR TotalInteracciones =\n",
    "    CALCULATE(\n",
    "        SUM('vista-mando-completa'[data.valor]),\n",
    "        'vista-mando-completa'[data.variable_nombre] = \"Total interacciones\"\n",
    "    )\n",
    "VAR Alcance =\n",
    "    CALCULATE(\n",
    "        SUM('vista-mando-completa'[data.valor]),\n",
    "        'vista-mando-completa'[data.variable_nombre] = \"Alcance\"\n",
    "    )\n",
    "RETURN\n",
    "DIVIDE(TotalInteracciones, Alcance, 0)\n"
   ]
  },
  {
   "cell_type": "code",
   "execution_count": null,
   "id": "48a25113",
   "metadata": {},
   "outputs": [],
   "source": []
  }
 ],
 "metadata": {
  "kernelspec": {
   "display_name": "venv",
   "language": "python",
   "name": "python3"
  },
  "language_info": {
   "codemirror_mode": {
    "name": "ipython",
    "version": 3
   },
   "file_extension": ".py",
   "mimetype": "text/x-python",
   "name": "python",
   "nbconvert_exporter": "python",
   "pygments_lexer": "ipython3",
   "version": "3.10.9"
  }
 },
 "nbformat": 4,
 "nbformat_minor": 5
}
