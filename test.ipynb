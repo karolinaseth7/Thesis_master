{
 "cells": [
  {
   "cell_type": "code",
   "execution_count": null,
   "id": "39c03902",
   "metadata": {},
   "outputs": [],
   "source": [
    "from bs4 import BeautifulSoup\n",
    "import requests\n",
    "from datetime import datetime\n",
    "\n",
    "date_str = \"2025-09-27\"\n",
    "url = f\"http://rmcab.ambientebogota.gov.co/Report/HourlyReports?id=1&UserDateString={date_str}\"\n",
    "\n",
    "r = requests.get(url)\n",
    "soup = BeautifulSoup(r.text, \"lxml\")\n",
    "\n",
    "titles = [h2.get_text(strip=True) for h2 in soup.find_all(\"h2\")]\n",
    "tables = soup.find_all(\"table\")\n",
    "\n",
    "print(f\"🧾 Fecha: {date_str}\")\n",
    "print(f\"Se encontraron {len(tables)} tablas y {len(titles)} títulos.\\n\")\n",
    "\n",
    "for i, (title, table) in enumerate(zip(titles, tables)):\n",
    "    print(f\"Estación {i+1}: {title}\")\n",
    "    print(table.text[:300])  # Muestra los primeros 300 caracteres del contenido\n",
    "    print(\"=\"*80)\n"
   ]
  }
 ],
 "metadata": {
  "language_info": {
   "name": "python"
  }
 },
 "nbformat": 4,
 "nbformat_minor": 5
}
